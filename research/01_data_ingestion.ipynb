{
 "cells": [
  {
   "cell_type": "code",
   "execution_count": 123,
   "metadata": {},
   "outputs": [],
   "source": [
    "import os"
   ]
  },
  {
   "cell_type": "code",
   "execution_count": 124,
   "metadata": {},
   "outputs": [
    {
     "data": {
      "text/plain": [
       "'C:\\\\Users\\\\ba415\\\\OneDrive\\\\Desktop\\\\ENDTOEND-REALESTATE-MLPROJECT'"
      ]
     },
     "execution_count": 124,
     "metadata": {},
     "output_type": "execute_result"
    }
   ],
   "source": [
    "%pwd"
   ]
  },
  {
   "cell_type": "code",
   "execution_count": 125,
   "metadata": {},
   "outputs": [],
   "source": [
    "os.chdir('../')"
   ]
  },
  {
   "cell_type": "code",
   "execution_count": 126,
   "metadata": {},
   "outputs": [
    {
     "data": {
      "text/plain": [
       "'C:\\\\Users\\\\ba415\\\\OneDrive\\\\Desktop'"
      ]
     },
     "execution_count": 126,
     "metadata": {},
     "output_type": "execute_result"
    }
   ],
   "source": [
    "%pwd"
   ]
  },
  {
   "cell_type": "code",
   "execution_count": 127,
   "metadata": {},
   "outputs": [
    {
     "name": "stdout",
     "output_type": "stream",
     "text": [
      "C:\\Users\\ba415\\OneDrive\\Desktop\\ENDTOEND-REALESTATE-MLPROJECT\n"
     ]
    }
   ],
   "source": [
    "import os\n",
    "os.chdir('C:/Users/ba415/OneDrive/Desktop/ENDTOEND-REALESTATE-MLPROJECT')\n",
    "print(os.getcwd())  # This should print 'C:/Users/ba415/OneDrive/Desktop/ENDTOEND-REALESTATE-MLPROJECT'"
   ]
  },
  {
   "cell_type": "code",
   "execution_count": 128,
   "metadata": {},
   "outputs": [],
   "source": [
    "import sys\n",
    "import os\n",
    "sys.path.insert(0, os.path.abspath(os.path.join(os.path.dirname(os.path.abspath('__file__')), '..', 'src')))\n"
   ]
  },
  {
   "cell_type": "code",
   "execution_count": 129,
   "metadata": {},
   "outputs": [],
   "source": [
    "from src.mlProject.constants import *\n",
    "from src.mlProject.utils.common import read_yaml, create_directories\n",
    "from src.mlProject import logger"
   ]
  },
  {
   "cell_type": "code",
   "execution_count": 130,
   "metadata": {},
   "outputs": [],
   "source": [
    "from src.mlProject.constants import CONFIG_FILE_PATH, PARAMS_FILE_PATH, SCHEMA_FILE_PATH\n",
    "from src.mlProject.utils.common import read_yaml, create_directories\n",
    "from src.mlProject import logger\n"
   ]
  },
  {
   "cell_type": "code",
   "execution_count": 131,
   "metadata": {},
   "outputs": [],
   "source": [
    "# making entity -> defining the return type for a funtion\n",
    "# Define DataIngestionConfig class\n",
    "from dataclasses import dataclass\n",
    "\n",
    "@dataclass\n",
    "class DataIngestionConfig:\n",
    "    root_dir: str\n",
    "    source_URL: str\n",
    "    local_data_file: str\n",
    "    unzip_dir: str"
   ]
  },
  {
   "cell_type": "code",
   "execution_count": 132,
   "metadata": {},
   "outputs": [],
   "source": [
    "class ConfigurationManager:\n",
    "    def __init__(self, config_filepath=CONFIG_FILE_PATH, params_filepath=PARAMS_FILE_PATH, schema_filepath=SCHEMA_FILE_PATH):\n",
    "        self.config_filepath = config_filepath\n",
    "        self.params_filepath = params_filepath\n",
    "        self.schema_filepath = schema_filepath\n",
    "\n",
    "        logger.info(f\"Using config file at: {self.config_filepath}\")\n",
    "        logger.info(f\"Using params file at: {self.params_filepath}\")\n",
    "        logger.info(f\"Using schema file at: {self.schema_filepath}\")\n",
    "\n",
    "        self.config = read_yaml(self.config_filepath)\n",
    "        self.params = read_yaml(self.params_filepath)\n",
    "        self.schema = read_yaml(self.schema_filepath)\n",
    "        \n",
    "        logger.info(f\"Configuration loaded: {self.config}\")\n",
    "\n",
    "    def get_data_ingestion_config(self) -> DataIngestionConfig:\n",
    "        config = self.config.get('data_ingestion', {})\n",
    "        create_directories([config.get('root_dir', 'artifacts/data_ingestion')])\n",
    "        \n",
    "        data_ingestion_config = DataIngestionConfig(\n",
    "            root_dir=config.get('root_dir', 'artifacts/data_ingestion'),\n",
    "            source_URL=config.get('source_URL', ''),\n",
    "            local_data_file=config.get('local_data_file', ''),\n",
    "            unzip_dir=config.get('unzip_dir', '')\n",
    "        )\n",
    "        \n",
    "        return data_ingestion_config"
   ]
  },
  {
   "cell_type": "code",
   "execution_count": 133,
   "metadata": {},
   "outputs": [],
   "source": [
    "import zipfile\n",
    "from urllib import request\n",
    "import requests\n",
    "import filetype"
   ]
  },
  {
   "cell_type": "code",
   "execution_count": 134,
   "metadata": {},
   "outputs": [],
   "source": [
    "class DataIngestion:\n",
    "    def __init__(self, config):\n",
    "        self.config = config\n",
    "\n",
    "    def download_file(self):\n",
    "        if not os.path.exists(self.config.local_data_file):\n",
    "            response = requests.get(self.config.source_URL)\n",
    "            with open(self.config.local_data_file, 'wb') as file:\n",
    "                file.write(response.content)\n",
    "            logger.info(f\"File downloaded: {self.config.local_data_file}\")\n",
    "        else:\n",
    "            logger.info(f\"File already exists: {self.config.local_data_file}\")\n",
    "\n",
    "    def extract_zip_file(self):\n",
    "        if zipfile.is_zipfile(self.config.local_data_file):\n",
    "            with zipfile.ZipFile(self.config.local_data_file, 'r') as zip_ref:\n",
    "                zip_ref.extractall(self.config.unzip_dir)\n",
    "            logger.info(f\"File extracted to: {self.config.unzip_dir}\")\n",
    "        else:\n",
    "            logger.error(\"Downloaded file is not a zip file.\")"
   ]
  },
  {
   "cell_type": "code",
   "execution_count": 135,
   "metadata": {},
   "outputs": [
    {
     "name": "stdout",
     "output_type": "stream",
     "text": [
      "[2024-07-31 04:55:59,883: INFO: 639775234: Using config file at: config\\config.yaml]\n",
      "[2024-07-31 04:55:59,883: INFO: 639775234: Using params file at: params.yaml]\n",
      "[2024-07-31 04:55:59,884: INFO: 639775234: Using schema file at: schema.yaml]\n",
      "[2024-07-31 04:55:59,886: INFO: common: yaml file: config\\config.yaml loaded successfully]\n",
      "[2024-07-31 04:55:59,887: INFO: common: yaml file: params.yaml loaded successfully]\n",
      "[2024-07-31 04:55:59,889: INFO: common: yaml file: schema.yaml loaded successfully]\n",
      "[2024-07-31 04:55:59,890: INFO: 639775234: Configuration loaded: {'artifacts_root': 'artifacts', 'data_ingestion': {'root_dir': 'artifacts/data_ingestion', 'source_URL': 'https://github.com/Lazygeniusbilal/Dataset/raw/main/graana_data.zip', 'local_data_file': 'artifacts/data_ingestion/data.zip', 'unzip_dir': 'artifacts/data_ingestion/unzipped'}, 'data_validation': {'root_dir': 'artifacts/data_validation', 'unzip_data_dir': 'artifacts/data_ingestion/'}}]\n",
      "[2024-07-31 04:55:59,891: INFO: common: created directory at: artifacts/data_ingestion]\n",
      "[2024-07-31 04:56:04,997: INFO: 3096768992: File downloaded: artifacts/data_ingestion/data.zip]\n",
      "[2024-07-31 04:56:05,007: INFO: 3096768992: File extracted to: artifacts/data_ingestion/unzipped]\n"
     ]
    }
   ],
   "source": [
    "# Main block\n",
    "try:\n",
    "    config = ConfigurationManager()\n",
    "    data_ingestion_config = config.get_data_ingestion_config()\n",
    "    data_ingestion = DataIngestion(config=data_ingestion_config)\n",
    "    data_ingestion.download_file()\n",
    "    data_ingestion.extract_zip_file()\n",
    "except Exception as e:\n",
    "    logger.error(e)"
   ]
  },
  {
   "cell_type": "code",
   "execution_count": 137,
   "metadata": {},
   "outputs": [],
   "source": [
    "# data ingestion done"
   ]
  },
  {
   "cell_type": "code",
   "execution_count": null,
   "metadata": {},
   "outputs": [],
   "source": []
  }
 ],
 "metadata": {
  "kernelspec": {
   "display_name": "myvenv",
   "language": "python",
   "name": "python3"
  },
  "language_info": {
   "codemirror_mode": {
    "name": "ipython",
    "version": 3
   },
   "file_extension": ".py",
   "mimetype": "text/x-python",
   "name": "python",
   "nbconvert_exporter": "python",
   "pygments_lexer": "ipython3",
   "version": "3.12.4"
  }
 },
 "nbformat": 4,
 "nbformat_minor": 2
}
