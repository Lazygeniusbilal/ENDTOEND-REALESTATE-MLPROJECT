{
 "cells": [
  {
   "cell_type": "code",
   "execution_count": 25,
   "metadata": {},
   "outputs": [],
   "source": [
    "import os"
   ]
  },
  {
   "cell_type": "code",
   "execution_count": 26,
   "metadata": {},
   "outputs": [
    {
     "data": {
      "text/plain": [
       "'c:\\\\Users\\\\ba415\\\\OneDrive\\\\Desktop\\\\ENDTOEND-REALESTATE-MLPROJECT\\\\research'"
      ]
     },
     "execution_count": 26,
     "metadata": {},
     "output_type": "execute_result"
    }
   ],
   "source": [
    "%pwd"
   ]
  },
  {
   "cell_type": "code",
   "execution_count": 27,
   "metadata": {},
   "outputs": [],
   "source": [
    "os.chdir('../')"
   ]
  },
  {
   "cell_type": "code",
   "execution_count": 28,
   "metadata": {},
   "outputs": [
    {
     "data": {
      "text/plain": [
       "'c:\\\\Users\\\\ba415\\\\OneDrive\\\\Desktop\\\\ENDTOEND-REALESTATE-MLPROJECT'"
      ]
     },
     "execution_count": 28,
     "metadata": {},
     "output_type": "execute_result"
    }
   ],
   "source": [
    "%pwd"
   ]
  },
  {
   "cell_type": "code",
   "execution_count": 29,
   "metadata": {},
   "outputs": [
    {
     "name": "stdout",
     "output_type": "stream",
     "text": [
      "Current working directory: c:\\Users\\ba415\\OneDrive\\Desktop\\ENDTOEND-REALESTATE-MLPROJECT\n",
      "Path added to sys.path: ['c:\\\\Users\\\\ba415\\\\OneDrive\\\\Desktop\\\\ENDTOEND-REALESTATE-MLPROJECT\\\\src', 'c:\\\\Users\\\\ba415\\\\OneDrive\\\\Desktop\\\\ENDTOEND-REALESTATE-MLPROJECT\\\\research\\\\src', 'c:\\\\Users\\\\ba415\\\\OneDrive\\\\Desktop\\\\ENDTOEND-REALESTATE-MLPROJECT\\\\research\\\\src', 'c:\\\\Users\\\\ba415\\\\OneDrive\\\\Desktop\\\\ENDTOEND-REALESTATE-MLPROJECT\\\\src\\\\mlProject\\\\utils\\\\src', 'c:\\\\Users\\\\ba415\\\\OneDrive\\\\Desktop\\\\ENDTOEND-REALESTATE-MLPROJECT\\\\research\\\\src', 'c:\\\\Users\\\\ba415\\\\OneDrive\\\\Desktop\\\\ENDTOEND-REALESTATE-MLPROJECT\\\\src', 'c:\\\\Users\\\\ba415\\\\OneDrive\\\\Desktop\\\\ENDTOEND-REALESTATE-MLPROJECT\\\\src', 'c:\\\\Users\\\\ba415\\\\OneDrive\\\\Desktop\\\\ENDTOEND-REALESTATE-MLPROJECT\\\\src', 'C:\\\\Program Files\\\\WindowsApps\\\\PythonSoftwareFoundation.Python.3.12_3.12.1264.0_x64__qbz5n2kfra8p0\\\\python312.zip', 'C:\\\\Program Files\\\\WindowsApps\\\\PythonSoftwareFoundation.Python.3.12_3.12.1264.0_x64__qbz5n2kfra8p0\\\\DLLs', 'C:\\\\Program Files\\\\WindowsApps\\\\PythonSoftwareFoundation.Python.3.12_3.12.1264.0_x64__qbz5n2kfra8p0\\\\Lib', 'C:\\\\Program Files\\\\WindowsApps\\\\PythonSoftwareFoundation.Python.3.12_3.12.1264.0_x64__qbz5n2kfra8p0', '', 'C:\\\\Users\\\\ba415\\\\AppData\\\\Local\\\\Packages\\\\PythonSoftwareFoundation.Python.3.12_qbz5n2kfra8p0\\\\LocalCache\\\\local-packages\\\\Python312\\\\site-packages', 'C:\\\\Users\\\\ba415\\\\AppData\\\\Local\\\\Packages\\\\PythonSoftwareFoundation.Python.3.12_qbz5n2kfra8p0\\\\LocalCache\\\\local-packages\\\\Python312\\\\site-packages\\\\win32', 'C:\\\\Users\\\\ba415\\\\AppData\\\\Local\\\\Packages\\\\PythonSoftwareFoundation.Python.3.12_qbz5n2kfra8p0\\\\LocalCache\\\\local-packages\\\\Python312\\\\site-packages\\\\win32\\\\lib', 'C:\\\\Users\\\\ba415\\\\AppData\\\\Local\\\\Packages\\\\PythonSoftwareFoundation.Python.3.12_qbz5n2kfra8p0\\\\LocalCache\\\\local-packages\\\\Python312\\\\site-packages\\\\Pythonwin', 'C:\\\\Program Files\\\\WindowsApps\\\\PythonSoftwareFoundation.Python.3.12_3.12.1264.0_x64__qbz5n2kfra8p0\\\\Lib\\\\site-packages']\n",
      "Module import successful!\n"
     ]
    }
   ],
   "source": [
    "import sys\n",
    "import os\n",
    "\n",
    "# Print the current working directory\n",
    "print(\"Current working directory:\", os.getcwd())\n",
    "\n",
    "# Ensure the path to the src directory is correctly added\n",
    "sys.path.insert(0, os.path.abspath(os.path.join(os.getcwd(), 'src')))\n",
    "\n",
    "# Verify the path\n",
    "print(\"Path added to sys.path:\", sys.path)\n",
    "\n",
    "# Test importing a module\n",
    "try:\n",
    "    from mlProject.constants import CONFIG_FILE_PATH, PARAMS_FILE_PATH, SCHEMA_FILE_PATH\n",
    "    print(\"Module import successful!\")\n",
    "except ModuleNotFoundError as e:\n",
    "    print(\"Module import failed:\", e)\n"
   ]
  },
  {
   "cell_type": "code",
   "execution_count": 30,
   "metadata": {},
   "outputs": [],
   "source": [
    "from mlProject.constants import *\n",
    "from mlProject import logger\n"
   ]
  },
  {
   "cell_type": "code",
   "execution_count": 31,
   "metadata": {},
   "outputs": [],
   "source": [
    "# making entity -> defining the return type for a funtion\n",
    "# Define DataIngestionConfig class\n",
    "from dataclasses import dataclass\n",
    "\n",
    "@dataclass\n",
    "class DataIngestionConfig:\n",
    "    root_dir: str\n",
    "    source_URL: str\n",
    "    local_data_file: str\n",
    "    unzip_dir: str"
   ]
  },
  {
   "cell_type": "code",
   "execution_count": null,
   "metadata": {},
   "outputs": [],
   "source": []
  }
 ],
 "metadata": {
  "kernelspec": {
   "display_name": "myvenv",
   "language": "python",
   "name": "python3"
  },
  "language_info": {
   "codemirror_mode": {
    "name": "ipython",
    "version": 3
   },
   "file_extension": ".py",
   "mimetype": "text/x-python",
   "name": "python",
   "nbconvert_exporter": "python",
   "pygments_lexer": "ipython3",
   "version": "3.12.4"
  }
 },
 "nbformat": 4,
 "nbformat_minor": 2
}
